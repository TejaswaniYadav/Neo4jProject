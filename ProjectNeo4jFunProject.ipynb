{
 "cells": [
  {
   "cell_type": "markdown",
   "metadata": {},
   "source": [
    "# Fun Mini Project\n",
    "\n",
    "## Tejaswani Yadav, Akshat Shah, Harsh Shah"
   ]
  },
  {
   "cell_type": "markdown",
   "metadata": {},
   "source": [
    "Social Media Platform\n",
    "\n",
    "Question 1: Finding the Eldest Person and the Youngest Person with his/her age and knowing the choice of Social Media.\n",
    "\n",
    "Question 2: Find the number of male and female users for each social media platform.\n",
    "\n",
    "Question 3: What is the total screen time for a user and which social media platform has the most screen time?\n",
    "\n",
    "Question 4: Which social media platform has the most number of users? (Top 3)\n",
    "\n",
    "Question 5: Highest rating of social media platforms"
   ]
  },
  {
   "cell_type": "code",
   "execution_count": 73,
   "metadata": {},
   "outputs": [],
   "source": [
    "# Importing the libraries required\n",
    "from py2neo import Graph\n",
    "from py2neo import Node\n",
    "from py2neo import Relationship\n",
    "import pandas as pd"
   ]
  },
  {
   "cell_type": "code",
   "execution_count": 74,
   "metadata": {},
   "outputs": [],
   "source": [
    "# Creating the Server and allocating the UserName and Password  \n",
    "graph = Graph(\"bolt://100.24.20.213:7687\", user=\"neo4j\", password=\"candidates-plans-lighter\")"
   ]
  },
  {
   "cell_type": "markdown",
   "metadata": {},
   "source": [
    "**Social Media Platform Nodes**"
   ]
  },
  {
   "cell_type": "code",
   "execution_count": 75,
   "metadata": {},
   "outputs": [],
   "source": [
    "# Creating Social Media Nodes for Each Platform and giving them title with the tagline of each platform \n",
    "Instagram = Node(\"Social_Media\", title=\"Instagram\", tagline=\"Capture and Share the World's Moments\")\n",
    "Facebook = Node(\"Social_Media\", title=\"Facebook\", tagline=\"It's quick and easy\")\n",
    "WhatsApp = Node(\"Social_Media\", title=\"WhatsApp\", tagline=\"Hey there, I am using WhatsApp\")\n",
    "SnapChat = Node(\"Social_Media\", title=\"SnapChat\", tagline=\"THe fastest way to share a moment\")\n",
    "Youtube = Node(\"Social_Media\", title=\"Youtube\", tagline=\"Broadcast Yourself\")\n",
    "Twitter = Node(\"Social_Media\", title=\"Twitter\", tagline=\"Here, your voice matters\")\n",
    "LinkedIn = Node(\"Social_Media\", title=\"LinkedIn\", tagline=\"Sum up your Professional brand\")"
   ]
  },
  {
   "cell_type": "markdown",
   "metadata": {},
   "source": [
    "**User Nodes**"
   ]
  },
  {
   "cell_type": "code",
   "execution_count": 76,
   "metadata": {},
   "outputs": [],
   "source": [
    "# Creating Nodes Of Person and Assigning them Name, Date of Birth, Country Name and their Gender\n",
    "Babita = Node(\"Person\", name=\"Babita Gada\", dob=1996, country=\"India\", sex=\"Female\")\n",
    "Tapu = Node(\"Person\", name=\"Tipendra Gada\", dob=2002, country=\"India\", sex=\"Male\")\n",
    "Tarak = Node(\"Person\", name=\"Tarak Mehta\", dob=1989, country=\"India\", sex=\"Male\")\n",
    "Iyer = Node(\"Person\", name=\"Krishnan Iyer\", dob=1978, country=\"India\", sex=\"Male\")\n",
    "Kaka = Node(\"Person\", name=\"Natu Kaka\", dob=1965, country=\"India\", sex=\"Male\")\n",
    "Daya = Node(\"Person\", name=\"Daya Jethalal\", dob=1988, country=\"India\", sex=\"Female\")\n",
    "Bagha = Node(\"Person\", name=\"Bagha\", dob=2001, country=\"India\", sex=\"Male\")\n",
    "Peg = Node(\"Person\", name=\"Peg Legge\", dob=2006, country=\"India\", sex=\"Male\")\n",
    "Isabelle = Node(\"Person\", name=\"Isabelle Ringing\", dob=2005, country=\"India\", sex=\"Female\")\n",
    "Anne = Node(\"Person\", name=\"Anne Teak\", dob=2001, country=\"USA\", sex=\"Female\")\n",
    "Rose = Node(\"Person\", name=\"Rose Bush\", dob=1998, country=\"USA\", sex=\"Female\")\n",
    "Melody = Node(\"Person\", name=\"Melody Sunshine\", dob=1999, country=\"USA\", sex=\"Male\")\n",
    "Chew = Node(\"Person\", name=\"Chew Mee \", dob=1999, country=\"USA\", sex=\"Male\")\n",
    "Abhijit = Node(\"Person\", name=\"Abhijit Singh \", dob=1980, country=\"India\", sex=\"Male\")\n",
    "ACP = Node(\"Person\", name=\"ACP Pradyuman \", dob=1960, country=\"India\", sex=\"Male\")\n",
    "Tarika = Node(\"Person\", name=\"DR Tarika \", dob=1986, country=\"India\", sex=\"Female\")\n",
    "Purvi = Node(\"Person\", name=\"Purvi Sayed \", dob=1988, country=\"India\", sex=\"Female\")\n",
    "Shreya = Node(\"Person\", name=\"Shreya Chedda\", dob=1985, country=\"India\", sex=\"Female\")\n",
    "Salunkhe = Node(\"Person\", name=\"Dr R.P. Salunkhe \", dob=1965, country=\"India\", sex=\"Male\")\n",
    "Fredricks = Node(\"Person\", name=\"Fredricks \", dob=1975, country=\"India\", sex=\"Male\")\n",
    "Sachin = Node(\"Person\", name=\"Inspector Sachin\", dob=1987, country=\"India\", sex=\"Male\")\n",
    "Nikhil = Node(\"Person\", name=\"Inspector Nikhil \", dob=1990, country=\"India\", sex=\"Male\")"
   ]
  },
  {
   "cell_type": "markdown",
   "metadata": {},
   "source": [
    "**Creating** "
   ]
  },
  {
   "cell_type": "code",
   "execution_count": 77,
   "metadata": {},
   "outputs": [],
   "source": [
    "# Ploting the Social Media Nodes into the graph\n",
    "graph.create(Instagram | Facebook | WhatsApp | SnapChat | Youtube | Twitter | LinkedIn)\n",
    "# Ploting the Person Nodes into the graph\n",
    "graph.create(Babita | Tapu | Tarak | Iyer | Kaka | Daya | Bagha | Peg | Isabelle | Anne | Rose|Melody|Chew|Abhijit|ACP|Tarika\n",
    "             |Purvi|Shreya|Salunkhe|Fredricks|Sachin|Nikhil)"
   ]
  },
  {
   "cell_type": "markdown",
   "metadata": {},
   "source": [
    "**Relationship between Social Media Platform Nodes and User Nodes**"
   ]
  },
  {
   "cell_type": "code",
   "execution_count": 78,
   "metadata": {},
   "outputs": [],
   "source": [
    "# Providing the relationship of a person to social Media Platforms \n",
    "graph.create(Relationship(Tarak, \"Uses\", SnapChat, joinedyear=2014, screentime=47, rating=3))\n",
    "graph.create(Relationship(Iyer, \"Uses\", LinkedIn, joinedyear=2010, screentime=64, rating=5))\n",
    "graph.create(Relationship(Iyer, \"Uses\", Twitter, joinedyear=2013, screentime=60, rating=4.6))\n",
    "graph.create(Relationship(Kaka, \"Uses\", Facebook, joinedyear=2019, screentime=97, rating=4.5))\n",
    "graph.create(Relationship(Daya, \"Uses\", Facebook, joinedyear=2018, screentime=20, rating=3))\n",
    "graph.create(Relationship(Bagha, \"Uses\", Facebook, joinedyear=2016, screentime=69, rating=4.9))\n",
    "graph.create(Relationship(Peg, \"Uses\", Facebook, joinedyear=2013, screentime=94, rating=1))\n",
    "graph.create(Relationship(Peg, \"Uses\", LinkedIn, joinedyear=2011, screentime=34, rating=4.8))\n",
    "graph.create(Relationship(Isabelle, \"Uses\", Youtube, joinedyear=2008, screentime=104, rating=4.6))\n",
    "graph.create(Relationship(Isabelle, \"Uses\", Twitter, joinedyear=2016, screentime=24, rating=1.8))\n",
    "graph.create(Relationship(Isabelle, \"Uses\", Instagram, joinedyear = 2014, screentime = 120, rating = 4.8))\n",
    "graph.create(Relationship(Anne, \"Uses\", Youtube, joinedyear=2009, screentime=14, rating=5))\n",
    "graph.create(Relationship(Anne, \"Uses\", SnapChat, joinedyear=2013, screentime=36, rating=3.8))\n",
    "graph.create(Relationship(Anne, \"Uses\", LinkedIn, joinedyear=2017, screentime=20, rating=4))\n",
    "graph.create(Relationship(Babita, \"Uses\", Facebook, joinedyear=2016, screentime=30, rating=2))\n",
    "graph.create(Relationship(Babita, \"Uses\", WhatsApp, joinedyear=2016, screentime=70, rating=3))\n",
    "graph.create(Relationship(Babita, \"Uses\", Instagram, joinedyear=2012, screentime=150, rating=4.9))\n",
    "graph.create(Relationship(Tapu, \"Uses\", WhatsApp, joinedyear=2018, screentime=100, rating=4))\n",
    "\n",
    "graph.create(Relationship(Daya, \"Uses\", WhatsApp, joinedyear=2010, screentime=25, rating=5))\n",
    "graph.create(Relationship(Tapu, \"Uses\", WhatsApp, joinedyear=2011, screentime=10, rating=4))\n",
    "graph.create(Relationship(Bagha, \"Uses\", WhatsApp, joinedyear=2012, screentime=15, rating=5))\n",
    "graph.create(Relationship(Kaka, \"Uses\", WhatsApp, joinedyear=2013, screentime=30, rating=4))\n",
    "graph.create(Relationship(Peg, \"Uses\", WhatsApp, joinedyear=2014, screentime=35, rating=5))\n",
    "graph.create(Relationship(Iyer, \"Uses\", WhatsApp, joinedyear=2015, screentime=40, rating=4))\n",
    "graph.create(Relationship(Isabelle, \"Uses\", WhatsApp, joinedyear=2016, screentime=45, rating=5))\n",
    "graph.create(Relationship(Anne, \"Uses\", WhatsApp, joinedyear=2017, screentime=50, rating=4))\n",
    "graph.create(Relationship(Tarak, \"Uses\", WhatsApp, joinedyear=2018, screentime=55, rating=5))\n",
    "\n",
    "graph.create(Relationship(Abhijit, \"Uses\", Instagram, joinedyear=2018, screentime=80, rating=5))\n",
    "graph.create(Relationship(ACP, \"Uses\", Twitter, joinedyear=2014, screentime=20, rating=3))\n",
    "graph.create(Relationship(Tarika, \"Uses\", Instagram, joinedyear=2015, screentime=130, rating=4))\n",
    "graph.create(Relationship(Purvi, \"Uses\", Instagram, joinedyear=2017, screentime=100, rating=4))\n",
    "graph.create(Relationship(Shreya, \"Uses\", Instagram, joinedyear=2018, screentime=40, rating=4))\n",
    "graph.create(Relationship(Salunkhe, \"Uses\", LinkedIn, joinedyear=2019, screentime=10, rating=3))\n",
    "graph.create(Relationship(Fredricks, \"Uses\", Youtube, joinedyear=2013, screentime=30, rating=3))\n",
    "graph.create(Relationship(Sachin, \"Uses\", Youtube, joinedyear=2010, screentime=40, rating=4))\n",
    "graph.create(Relationship(Nikhil, \"Uses\", Instagram, joinedyear=2012, screentime=50, rating=5))\n",
    "\n",
    "\n",
    "\n",
    "\n",
    "graph.create(Relationship(Tapu, \"Uses\", Facebook, joinedyear=2017, screentime=43, rating=2))\n",
    "graph.create(Relationship(Rose, \"Uses\", Twitter, joinedyear=2012, screentime=84, rating=4))\n",
    "graph.create(Relationship(Rose, \"Uses\", LinkedIn, joinedyear=2014, screentime=134, rating=1))\n",
    "graph.create(Relationship(Rose, \"Uses\", Youtube, joinedyear=2014, screentime=64, rating=4.8))\n",
    "graph.create(Relationship(Melody, \"Uses\", Twitter, joinedyear=2010, screentime=54, rating=2.9))\n",
    "graph.create(Relationship(Melody, \"Uses\", SnapChat, joinedyear=2015, screentime=76, rating=3.8))\n",
    "graph.create(Relationship(Melody, \"Uses\", WhatsApp, joinedyear=2019, screentime=87, rating=2.6))\n",
    "graph.create(Relationship(Chew, \"Uses\", Facebook, joinedyear=2017, screentime=29, rating=4.9))\n",
    "graph.create(Relationship(Chew, \"Uses\", SnapChat, joinedyear=2018, screentime=48, rating=2.8))\n",
    "graph.create(Relationship(Chew, \"Uses\", WhatsApp, joinedyear=2009, screentime=86, rating=1.6))"
   ]
  },
  {
   "cell_type": "markdown",
   "metadata": {},
   "source": [
    "**Queries**"
   ]
  },
  {
   "cell_type": "markdown",
   "metadata": {},
   "source": [
    "**Query 1: Which social media platform has the most number of users? (Top 3)**"
   ]
  },
  {
   "cell_type": "code",
   "execution_count": 80,
   "metadata": {},
   "outputs": [
    {
     "name": "stdout",
     "output_type": "stream",
     "text": [
      "'WhatsApp'\t12\n",
      "'Facebook'\t7\n",
      "'Instagram'\t7\n"
     ]
    }
   ],
   "source": [
    "query1 = \"\"\"\n",
    "MATCH (p:Person)-[]->(s:Social_Media)\n",
    "RETURN s.title, COUNT(*) AS Users\n",
    "ORDER BY Users DESC\n",
    "LIMIT 3\n",
    "\"\"\"\n",
    "\n",
    "data1 = graph.run(query1)\n",
    "for d in data1:\n",
    "    print(d)"
   ]
  },
  {
   "cell_type": "markdown",
   "metadata": {},
   "source": [
    "**Query 2: What is the total screen time for a user and which social media platform has the most screen time?**"
   ]
  },
  {
   "cell_type": "code",
   "execution_count": 107,
   "metadata": {},
   "outputs": [],
   "source": [
    "query2 = \"\"\"\n",
    "MATCH (p:Person)-[r]->(s:Social_Media)\n",
    "RETURN DISTINCT p.name AS Name, s.title,SUM(r.screentime) AS Total\n",
    "ORDER BY Total DESC\n",
    "LIMIT 10\n",
    "\"\"\"\n",
    "\n",
    "data2 = graph.run(query2)\n",
    "df = pd.DataFrame(data2)\n",
    "for d in data2:\n",
    "    print(d)"
   ]
  },
  {
   "cell_type": "code",
   "execution_count": 108,
   "metadata": {},
   "outputs": [
    {
     "data": {
      "text/html": [
       "<div>\n",
       "<style scoped>\n",
       "    .dataframe tbody tr th:only-of-type {\n",
       "        vertical-align: middle;\n",
       "    }\n",
       "\n",
       "    .dataframe tbody tr th {\n",
       "        vertical-align: top;\n",
       "    }\n",
       "\n",
       "    .dataframe thead th {\n",
       "        text-align: right;\n",
       "    }\n",
       "</style>\n",
       "<table border=\"1\" class=\"dataframe\">\n",
       "  <thead>\n",
       "    <tr style=\"text-align: right;\">\n",
       "      <th></th>\n",
       "      <th>0</th>\n",
       "      <th>1</th>\n",
       "      <th>2</th>\n",
       "    </tr>\n",
       "  </thead>\n",
       "  <tbody>\n",
       "    <tr>\n",
       "      <th>0</th>\n",
       "      <td>Babita Gada</td>\n",
       "      <td>Instagram</td>\n",
       "      <td>150</td>\n",
       "    </tr>\n",
       "    <tr>\n",
       "      <th>1</th>\n",
       "      <td>Rose Bush</td>\n",
       "      <td>LinkedIn</td>\n",
       "      <td>134</td>\n",
       "    </tr>\n",
       "    <tr>\n",
       "      <th>2</th>\n",
       "      <td>DR Tarika</td>\n",
       "      <td>Instagram</td>\n",
       "      <td>130</td>\n",
       "    </tr>\n",
       "    <tr>\n",
       "      <th>3</th>\n",
       "      <td>Isabelle Ringing</td>\n",
       "      <td>Instagram</td>\n",
       "      <td>120</td>\n",
       "    </tr>\n",
       "    <tr>\n",
       "      <th>4</th>\n",
       "      <td>Isabelle Ringing</td>\n",
       "      <td>Youtube</td>\n",
       "      <td>104</td>\n",
       "    </tr>\n",
       "    <tr>\n",
       "      <th>5</th>\n",
       "      <td>Purvi Sayed</td>\n",
       "      <td>Instagram</td>\n",
       "      <td>100</td>\n",
       "    </tr>\n",
       "    <tr>\n",
       "      <th>6</th>\n",
       "      <td>Natu Kaka</td>\n",
       "      <td>Facebook</td>\n",
       "      <td>97</td>\n",
       "    </tr>\n",
       "    <tr>\n",
       "      <th>7</th>\n",
       "      <td>Peg Legge</td>\n",
       "      <td>Facebook</td>\n",
       "      <td>94</td>\n",
       "    </tr>\n",
       "    <tr>\n",
       "      <th>8</th>\n",
       "      <td>Melody Sunshine</td>\n",
       "      <td>WhatsApp</td>\n",
       "      <td>87</td>\n",
       "    </tr>\n",
       "    <tr>\n",
       "      <th>9</th>\n",
       "      <td>Chew Mee</td>\n",
       "      <td>WhatsApp</td>\n",
       "      <td>86</td>\n",
       "    </tr>\n",
       "  </tbody>\n",
       "</table>\n",
       "</div>"
      ],
      "text/plain": [
       "                  0          1    2\n",
       "0       Babita Gada  Instagram  150\n",
       "1         Rose Bush   LinkedIn  134\n",
       "2        DR Tarika   Instagram  130\n",
       "3  Isabelle Ringing  Instagram  120\n",
       "4  Isabelle Ringing    Youtube  104\n",
       "5      Purvi Sayed   Instagram  100\n",
       "6         Natu Kaka   Facebook   97\n",
       "7         Peg Legge   Facebook   94\n",
       "8   Melody Sunshine   WhatsApp   87\n",
       "9         Chew Mee    WhatsApp   86"
      ]
     },
     "execution_count": 108,
     "metadata": {},
     "output_type": "execute_result"
    }
   ],
   "source": [
    "df"
   ]
  },
  {
   "cell_type": "markdown",
   "metadata": {},
   "source": [
    "**Query 3: Highest rating of social media platforms**"
   ]
  },
  {
   "cell_type": "code",
   "execution_count": 82,
   "metadata": {},
   "outputs": [
    {
     "name": "stdout",
     "output_type": "stream",
     "text": [
      "'Instagram'\t4.5285714285714285\n",
      "'Youtube'\t4.28\n",
      "'WhatsApp'\t4.016666666666667\n",
      "'LinkedIn'\t3.5599999999999996\n",
      "'SnapChat'\t3.3499999999999996\n",
      "'Twitter'\t3.2600000000000002\n",
      "'Facebook'\t3.185714285714286\n"
     ]
    }
   ],
   "source": [
    "query3 = \"\"\"\n",
    "MATCH (p:Person)-[r]->(s:Social_Media)\n",
    "RETURN s.title AS Title, AVG(r.rating) AS Rating\n",
    "ORDER BY Rating DESC\n",
    "\"\"\"\n",
    "\n",
    "data3 = graph.run(query3)\n",
    "for d in data3:\n",
    "    print(d)"
   ]
  },
  {
   "cell_type": "markdown",
   "metadata": {},
   "source": [
    "**Query 4: Finding the Eldest Person and the Youngest Person with his/her age and knowing the choice of Social Media.**"
   ]
  },
  {
   "cell_type": "code",
   "execution_count": 112,
   "metadata": {},
   "outputs": [
    {
     "name": "stdout",
     "output_type": "stream",
     "text": [
      "'Eldest Person :'\t'ACP Pradyuman '\t62\t'Twitter'\n",
      "'Youngest Person: '\t'Peg Legge'\t16\t'WhatsApp'\n"
     ]
    }
   ],
   "source": [
    "query4 = \"\"\"\n",
    "MATCH (p:Person)-[r]->(s:Social_Media)\n",
    "SET p.Name = 'Eldest Person :'\n",
    "RETURN p.Name, p.name AS Name, 2022-p.dob AS Age, s.title\n",
    "ORDER BY Age DESC\n",
    "LIMIT 1\n",
    "UNION ALL\n",
    "MATCH (p:Person)-[r]->(s:Social_Media)\n",
    "SET p.Name = 'Youngest Person: '\n",
    "RETURN p.Name ,p.name AS Name, 2022-p.dob AS Age, s.title\n",
    "ORDER BY Age\n",
    "LIMIT 1\n",
    "\"\"\"\n",
    "\n",
    "data4 = graph.run(query4)\n",
    "for d in data4:\n",
    "    print(d)"
   ]
  },
  {
   "cell_type": "markdown",
   "metadata": {},
   "source": [
    "**Query 5: Find the number of male and female users for each social media platform.**"
   ]
  },
  {
   "cell_type": "code",
   "execution_count": 94,
   "metadata": {},
   "outputs": [
    {
     "name": "stdout",
     "output_type": "stream",
     "text": [
      "'WhatsApp'\t8\t'Male'\n",
      "'Twitter'\t3\t'Male'\n",
      "'LinkedIn'\t3\t'Male'\n",
      "'Facebook'\t5\t'Male'\n",
      "'SnapChat'\t3\t'Male'\n",
      "'Youtube'\t2\t'Male'\n",
      "'Instagram'\t2\t'Male'\n",
      "'Instagram'\t5\t'Female'\n",
      "'WhatsApp'\t4\t'Female'\n",
      "'LinkedIn'\t2\t'Female'\n",
      "'SnapChat'\t1\t'Female'\n",
      "'Youtube'\t3\t'Female'\n",
      "'Facebook'\t2\t'Female'\n",
      "'Twitter'\t2\t'Female'\n"
     ]
    }
   ],
   "source": [
    "query5 = \"\"\"\n",
    "MATCH (p:Person)-[r]->(s:Social_Media)\n",
    "WHERE p.sex=\"Male\"\n",
    "SET p.surname = 'Male'\n",
    "RETURN s.title, COUNT(*),p.surname AS count\n",
    "ORDER BY count DESC\n",
    "UNION ALL\n",
    "MATCH (p:Person)-[r]->(s:Social_Media)\n",
    "WHERE p.sex=\"Female\"\n",
    "SET p.surname = 'Female'\n",
    "RETURN s.title, COUNT(*),p.surname AS count\n",
    "ORDER BY count DESC\n",
    "\"\"\"\n",
    "\n",
    "data5 = graph.run(query5)\n",
    "for d in data5:\n",
    "    print(d)"
   ]
  },
  {
   "cell_type": "markdown",
   "metadata": {},
   "source": [
    "### Insights\n",
    "#### Query 1: Which social media platform has the most number of users? (Top 3)\n",
    "#### We will find the top 3 most used Platform by evaluating the number of users of a particular Social Media Platform.\n",
    "####  \n",
    "#### Query 2: What is the total screen time for a user and which social media platform has the most screen time?\n",
    "#### Finding first  maximum 10 Screen time holders and displaying their Names of the person and  Social Media Platform.\n",
    "#### \n",
    "#### Query 3: Highest rating of social media platforms\n",
    "#### Displaying the Most Social Media Rating to the Least Social Media Rating By taking the average of the Rating of the Social Media rating given by the person.\n",
    "#### \n",
    "#### Query 4: Finding the Eldest Person and the Youngest Person with his/her age and knowing the choice of Social Media.\n",
    "#### Discovering the Eldest perosn's and the youngest person's selection of social media along with their Age. \n",
    "#### \n",
    "#### Query 5: Find the number of male and female users for each social media platform.\n",
    "#### Organizing the most to least Male and Female users of Social Media to evaluate the different choice of Platforms in different Genders.  \n",
    "\n"
   ]
  },
  {
   "cell_type": "code",
   "execution_count": null,
   "metadata": {},
   "outputs": [],
   "source": []
  },
  {
   "cell_type": "code",
   "execution_count": null,
   "metadata": {},
   "outputs": [],
   "source": []
  }
 ],
 "metadata": {
  "kernelspec": {
   "display_name": "Python 3",
   "language": "python",
   "name": "python3"
  },
  "language_info": {
   "codemirror_mode": {
    "name": "ipython",
    "version": 3
   },
   "file_extension": ".py",
   "mimetype": "text/x-python",
   "name": "python",
   "nbconvert_exporter": "python",
   "pygments_lexer": "ipython3",
   "version": "3.8.8"
  }
 },
 "nbformat": 4,
 "nbformat_minor": 2
}
